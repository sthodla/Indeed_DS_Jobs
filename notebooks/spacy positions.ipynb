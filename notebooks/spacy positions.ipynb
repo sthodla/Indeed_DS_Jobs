{
 "cells": [
  {
   "cell_type": "code",
   "execution_count": 1,
   "metadata": {},
   "outputs": [
    {
     "name": "stdout",
     "output_type": "stream",
     "text": [
      "<class 'pandas.core.frame.DataFrame'>\n",
      "RangeIndex: 5217 entries, 0 to 5216\n",
      "Data columns (total 2 columns):\n",
      "position    5217 non-null object\n",
      "ct          5217 non-null object\n",
      "dtypes: object(2)\n",
      "memory usage: 81.6+ KB\n"
     ]
    }
   ],
   "source": [
    "import pandas as pd\n",
    "import spacy\n",
    "positions = pd.read_csv('pos.csv')\n",
    "positions[positions.position.isna()] = 'nan'\n",
    "positions.info()"
   ]
  },
  {
   "cell_type": "code",
   "execution_count": 9,
   "metadata": {},
   "outputs": [],
   "source": [
    "nlp = spacy.load(\"en_core_web_sm\")\n",
    "transformed_post = []\n",
    "for pos in positions.position:\n",
    "    transformed = nlp(pos)\n",
    "    new = ''\n",
    "    for token in transformed:\n",
    "        if token.pos_ == 'NOUN' or (token.pos_ == 'VERB' and token.text == 'learning'):\n",
    "            new += (token.text + ' ')\n",
    "    if new.find('data scientist') != -1:\n",
    "        new = 'data scientist'\n",
    "    if new.find('machine learning') != -1 or new.find('ml') != -1:\n",
    "        new = 'machine learning'\n",
    "    if new.find('software') != -1:\n",
    "        new = 'software engineer'\n",
    "    if new.find('data analyst') != -1:\n",
    "        new = 'data analyst'\n",
    "    if new.find('data engineer') != -1:\n",
    "        new = 'data engineer'\n",
    "    transformed_post.append(new.strip())"
   ]
  },
  {
   "cell_type": "code",
   "execution_count": 10,
   "metadata": {},
   "outputs": [],
   "source": [
    "positions['transformed'] = pd.Series(transformed_post)"
   ]
  },
  {
   "cell_type": "code",
   "execution_count": 11,
   "metadata": {},
   "outputs": [
    {
     "data": {
      "text/html": [
       "<div>\n",
       "<style scoped>\n",
       "    .dataframe tbody tr th:only-of-type {\n",
       "        vertical-align: middle;\n",
       "    }\n",
       "\n",
       "    .dataframe tbody tr th {\n",
       "        vertical-align: top;\n",
       "    }\n",
       "\n",
       "    .dataframe thead th {\n",
       "        text-align: right;\n",
       "    }\n",
       "</style>\n",
       "<table border=\"1\" class=\"dataframe\">\n",
       "  <thead>\n",
       "    <tr style=\"text-align: right;\">\n",
       "      <th></th>\n",
       "      <th>position</th>\n",
       "      <th>ct</th>\n",
       "      <th>transformed</th>\n",
       "    </tr>\n",
       "  </thead>\n",
       "  <tbody>\n",
       "    <tr>\n",
       "      <th>0</th>\n",
       "      <td>data scientist</td>\n",
       "      <td>355</td>\n",
       "      <td>data scientist</td>\n",
       "    </tr>\n",
       "    <tr>\n",
       "      <th>1</th>\n",
       "      <td>senior data scientist</td>\n",
       "      <td>98</td>\n",
       "      <td>data scientist</td>\n",
       "    </tr>\n",
       "    <tr>\n",
       "      <th>2</th>\n",
       "      <td>research analyst</td>\n",
       "      <td>66</td>\n",
       "      <td>research analyst</td>\n",
       "    </tr>\n",
       "    <tr>\n",
       "      <th>3</th>\n",
       "      <td>data engineer</td>\n",
       "      <td>63</td>\n",
       "      <td>data engineer</td>\n",
       "    </tr>\n",
       "    <tr>\n",
       "      <th>4</th>\n",
       "      <td>machine learning engineer</td>\n",
       "      <td>56</td>\n",
       "      <td>machine learning</td>\n",
       "    </tr>\n",
       "  </tbody>\n",
       "</table>\n",
       "</div>"
      ],
      "text/plain": [
       "                    position   ct       transformed\n",
       "0             data scientist  355    data scientist\n",
       "1      senior data scientist   98    data scientist\n",
       "2           research analyst   66  research analyst\n",
       "3              data engineer   63     data engineer\n",
       "4  machine learning engineer   56  machine learning"
      ]
     },
     "execution_count": 11,
     "metadata": {},
     "output_type": "execute_result"
    }
   ],
   "source": [
    "positions.head()"
   ]
  },
  {
   "cell_type": "code",
   "execution_count": 12,
   "metadata": {},
   "outputs": [],
   "source": [
    "from collections import Counter\n",
    "count_trans_pos = Counter(positions.transformed)"
   ]
  },
  {
   "cell_type": "code",
   "execution_count": 13,
   "metadata": {},
   "outputs": [
    {
     "data": {
      "text/plain": [
       "[('data scientist', 593),\n",
       " ('machine learning', 340),\n",
       " ('software engineer', 313),\n",
       " ('data analyst', 88),\n",
       " ('data engineer', 82),\n",
       " ('scientist', 69),\n",
       " ('research analyst', 35),\n",
       " ('analyst', 30),\n",
       " ('engineer', 28),\n",
       " ('research scientist', 25),\n",
       " ('scientist biology', 18),\n",
       " ('research associate', 16),\n",
       " ('program manager', 16),\n",
       " ('product manager', 13),\n",
       " ('', 13),\n",
       " ('scientist development', 11),\n",
       " ('programmer', 10),\n",
       " ('developer', 10),\n",
       " ('specialist', 9),\n",
       " ('bioinformatics', 8),\n",
       " ('director data science', 8),\n",
       " ('scientist chemistry', 8),\n",
       " ('designer', 7),\n",
       " ('manager', 7),\n",
       " ('architect', 7),\n",
       " ('staff scientist', 6),\n",
       " ('assistant', 6),\n",
       " ('researcher', 6),\n",
       " ('writer', 6),\n",
       " ('scientist pharmacology', 6),\n",
       " ('director', 6),\n",
       " ('product designer', 6),\n",
       " ('analyst research', 6),\n",
       " ('source research analyst', 6),\n",
       " ('market research analyst', 5),\n",
       " ('manager data science', 5),\n",
       " ('design engineer', 5),\n",
       " ('research coordinator', 5),\n",
       " ('scientist toxicology', 5),\n",
       " ('scientist immunology', 5),\n",
       " ('recruiter', 5),\n",
       " ('marketing analyst', 5),\n",
       " ('bioinformatics scientist', 5),\n",
       " ('associate', 5),\n",
       " ('end developer', 5),\n",
       " ('scientist process development', 5),\n",
       " ('research associate biology', 5),\n",
       " ('biologist', 4),\n",
       " ('data science manager', 4),\n",
       " ('data architect', 4),\n",
       " ('finance analyst', 4),\n",
       " ('end engineer', 4),\n",
       " ('process development scientist', 4),\n",
       " ('web developer', 4),\n",
       " ('scientist bioinformatics', 4),\n",
       " ('scientist vivo pharmacology', 4),\n",
       " ('manager programming', 4),\n",
       " ('data analytics specialist', 4),\n",
       " ('director development', 4),\n",
       " ('research scientist engineer', 4),\n",
       " ('operations research analyst', 3),\n",
       " ('business analyst', 3),\n",
       " ('research assistant', 3),\n",
       " ('research engineer', 3),\n",
       " ('stack engineer', 3),\n",
       " ('learning scientist', 3),\n",
       " ('data science', 3),\n",
       " ('research technician', 3),\n",
       " ('health scientist', 3),\n",
       " ('research scientist genomics', 3),\n",
       " ('data research analyst', 3),\n",
       " ('analyst data analysis', 3),\n",
       " ('project scientist', 3),\n",
       " ('research technologist', 3),\n",
       " ('scientist sciences', 3),\n",
       " ('computer vision research scientist', 3),\n",
       " ('scientist research', 3),\n",
       " ('compliance manager', 3),\n",
       " ('planner', 3),\n",
       " ('engineer system integration test', 3),\n",
       " ('project engineer systems integration test security clearance', 3),\n",
       " ('engineer security clearance', 3),\n",
       " ('material planner', 3),\n",
       " ('specialist test program operations', 3),\n",
       " ('lead', 3),\n",
       " ('laboratory technician', 3),\n",
       " ('scientist oncology', 3),\n",
       " ('scientist cambridge', 3),\n",
       " ('process development associate', 3),\n",
       " ('support specialist', 3),\n",
       " ('scientist immuno oncology', 3),\n",
       " ('scientist scientist', 3),\n",
       " ('quality engineer', 3),\n",
       " ('development scientist', 3),\n",
       " ('analyst developer', 3),\n",
       " ('secretary', 3),\n",
       " ('coordinator', 3),\n",
       " ('economist', 3),\n",
       " ('scientist i', 3),\n",
       " ('data coordinator', 3)]"
      ]
     },
     "execution_count": 13,
     "metadata": {},
     "output_type": "execute_result"
    }
   ],
   "source": [
    "count_trans_pos.most_common(100)"
   ]
  },
  {
   "cell_type": "code",
   "execution_count": 14,
   "metadata": {},
   "outputs": [
    {
     "data": {
      "text/plain": [
       "3038"
      ]
     },
     "execution_count": 14,
     "metadata": {},
     "output_type": "execute_result"
    }
   ],
   "source": [
    "len(count_trans_pos)"
   ]
  },
  {
   "cell_type": "code",
   "execution_count": null,
   "metadata": {},
   "outputs": [],
   "source": []
  }
 ],
 "metadata": {
  "kernelspec": {
   "display_name": "Python 3",
   "language": "python",
   "name": "python3"
  },
  "language_info": {
   "codemirror_mode": {
    "name": "ipython",
    "version": 3
   },
   "file_extension": ".py",
   "mimetype": "text/x-python",
   "name": "python",
   "nbconvert_exporter": "python",
   "pygments_lexer": "ipython3",
   "version": "3.7.3"
  }
 },
 "nbformat": 4,
 "nbformat_minor": 2
}
