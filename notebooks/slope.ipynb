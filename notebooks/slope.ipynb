{
 "cells": [
  {
   "cell_type": "code",
   "execution_count": 1,
   "metadata": {},
   "outputs": [
    {
     "data": {
      "text/plain": [
       "array(['scales', 'ggplot2', 'tools', 'stats', 'graphics', 'grDevices',\n",
       "       'utils', 'datasets', 'methods', 'base'], dtype='<U9')"
      ]
     },
     "execution_count": 1,
     "metadata": {},
     "output_type": "execute_result"
    }
   ],
   "source": [
    "#import packages\n",
    "import pandas as pd\n",
    "%load_ext rpy2.ipython\n",
    "%R library(ggplot2)\n",
    "%R library(scales)"
   ]
  },
  {
   "cell_type": "code",
   "execution_count": 2,
   "metadata": {
    "collapsed": true
   },
   "outputs": [],
   "source": [
    "#read in two years of seperate csv\n",
    "t1 = pd.read_csv('2019_count.csv')\n",
    "t2 = pd.read_csv('2018_count.csv')"
   ]
  },
  {
   "cell_type": "code",
   "execution_count": 3,
   "metadata": {
    "collapsed": true
   },
   "outputs": [],
   "source": [
    "t1['year'] = 2019\n",
    "t2['year'] = 2018"
   ]
  },
  {
   "cell_type": "code",
   "execution_count": 4,
   "metadata": {
    "collapsed": true
   },
   "outputs": [],
   "source": [
    "t1 = t1.drop('Unnamed: 0', axis = 1)\n",
    "t2 = t2.drop('Unnamed: 0', axis = 1)"
   ]
  },
  {
   "cell_type": "code",
   "execution_count": 5,
   "metadata": {},
   "outputs": [
    {
     "data": {
      "text/html": [
       "<div>\n",
       "<style scoped>\n",
       "    .dataframe tbody tr th:only-of-type {\n",
       "        vertical-align: middle;\n",
       "    }\n",
       "\n",
       "    .dataframe tbody tr th {\n",
       "        vertical-align: top;\n",
       "    }\n",
       "\n",
       "    .dataframe thead th {\n",
       "        text-align: right;\n",
       "    }\n",
       "</style>\n",
       "<table border=\"1\" class=\"dataframe\">\n",
       "  <thead>\n",
       "    <tr style=\"text-align: right;\">\n",
       "      <th></th>\n",
       "      <th>label</th>\n",
       "      <th>position</th>\n",
       "      <th>year</th>\n",
       "    </tr>\n",
       "  </thead>\n",
       "  <tbody>\n",
       "    <tr>\n",
       "      <th>0</th>\n",
       "      <td>0</td>\n",
       "      <td>833</td>\n",
       "      <td>2019</td>\n",
       "    </tr>\n",
       "    <tr>\n",
       "      <th>1</th>\n",
       "      <td>1</td>\n",
       "      <td>617</td>\n",
       "      <td>2019</td>\n",
       "    </tr>\n",
       "    <tr>\n",
       "      <th>2</th>\n",
       "      <td>2</td>\n",
       "      <td>1651</td>\n",
       "      <td>2019</td>\n",
       "    </tr>\n",
       "    <tr>\n",
       "      <th>3</th>\n",
       "      <td>3</td>\n",
       "      <td>188</td>\n",
       "      <td>2019</td>\n",
       "    </tr>\n",
       "  </tbody>\n",
       "</table>\n",
       "</div>"
      ],
      "text/plain": [
       "   label  position  year\n",
       "0      0       833  2019\n",
       "1      1       617  2019\n",
       "2      2      1651  2019\n",
       "3      3       188  2019"
      ]
     },
     "execution_count": 5,
     "metadata": {},
     "output_type": "execute_result"
    }
   ],
   "source": [
    "t1.head()"
   ]
  },
  {
   "cell_type": "code",
   "execution_count": 6,
   "metadata": {
    "scrolled": true
   },
   "outputs": [
    {
     "data": {
      "text/html": [
       "<div>\n",
       "<style scoped>\n",
       "    .dataframe tbody tr th:only-of-type {\n",
       "        vertical-align: middle;\n",
       "    }\n",
       "\n",
       "    .dataframe tbody tr th {\n",
       "        vertical-align: top;\n",
       "    }\n",
       "\n",
       "    .dataframe thead th {\n",
       "        text-align: right;\n",
       "    }\n",
       "</style>\n",
       "<table border=\"1\" class=\"dataframe\">\n",
       "  <thead>\n",
       "    <tr style=\"text-align: right;\">\n",
       "      <th></th>\n",
       "      <th>label</th>\n",
       "      <th>position</th>\n",
       "      <th>year</th>\n",
       "    </tr>\n",
       "  </thead>\n",
       "  <tbody>\n",
       "    <tr>\n",
       "      <th>0</th>\n",
       "      <td>0</td>\n",
       "      <td>1444</td>\n",
       "      <td>2018</td>\n",
       "    </tr>\n",
       "    <tr>\n",
       "      <th>1</th>\n",
       "      <td>1</td>\n",
       "      <td>218</td>\n",
       "      <td>2018</td>\n",
       "    </tr>\n",
       "    <tr>\n",
       "      <th>2</th>\n",
       "      <td>2</td>\n",
       "      <td>1079</td>\n",
       "      <td>2018</td>\n",
       "    </tr>\n",
       "    <tr>\n",
       "      <th>3</th>\n",
       "      <td>3</td>\n",
       "      <td>464</td>\n",
       "      <td>2018</td>\n",
       "    </tr>\n",
       "  </tbody>\n",
       "</table>\n",
       "</div>"
      ],
      "text/plain": [
       "   label  position  year\n",
       "0      0      1444  2018\n",
       "1      1       218  2018\n",
       "2      2      1079  2018\n",
       "3      3       464  2018"
      ]
     },
     "execution_count": 6,
     "metadata": {},
     "output_type": "execute_result"
    }
   ],
   "source": [
    "t2.head()"
   ]
  },
  {
   "cell_type": "code",
   "execution_count": 7,
   "metadata": {
    "collapsed": true
   },
   "outputs": [],
   "source": [
    "t = pd.merge(t1, t2, on = 'label', how = 'inner')\n",
    "t.loc[t.label == 0,'label'] = 'Data Scientist'\n",
    "t.loc[t.label == 1, 'label'] = 'Data Engineer'\n",
    "t.loc[t.label == 2, 'label'] = 'Data Analyst'\n",
    "t.loc[t.label == 3, 'label'] = 'Machine Learning Engineer'"
   ]
  },
  {
   "cell_type": "code",
   "execution_count": 8,
   "metadata": {
    "collapsed": true
   },
   "outputs": [],
   "source": [
    "%R -i t"
   ]
  },
  {
   "cell_type": "code",
   "execution_count": 9,
   "metadata": {},
   "outputs": [
    {
     "data": {
      "text/html": [
       "<div>\n",
       "<style scoped>\n",
       "    .dataframe tbody tr th:only-of-type {\n",
       "        vertical-align: middle;\n",
       "    }\n",
       "\n",
       "    .dataframe tbody tr th {\n",
       "        vertical-align: top;\n",
       "    }\n",
       "\n",
       "    .dataframe thead th {\n",
       "        text-align: right;\n",
       "    }\n",
       "</style>\n",
       "<table border=\"1\" class=\"dataframe\">\n",
       "  <thead>\n",
       "    <tr style=\"text-align: right;\">\n",
       "      <th></th>\n",
       "      <th>label</th>\n",
       "      <th>position_x</th>\n",
       "      <th>year_x</th>\n",
       "      <th>position_y</th>\n",
       "      <th>year_y</th>\n",
       "    </tr>\n",
       "  </thead>\n",
       "  <tbody>\n",
       "    <tr>\n",
       "      <th>0</th>\n",
       "      <td>Data Scientist</td>\n",
       "      <td>833</td>\n",
       "      <td>2019</td>\n",
       "      <td>1444</td>\n",
       "      <td>2018</td>\n",
       "    </tr>\n",
       "    <tr>\n",
       "      <th>1</th>\n",
       "      <td>Data Engineer</td>\n",
       "      <td>617</td>\n",
       "      <td>2019</td>\n",
       "      <td>218</td>\n",
       "      <td>2018</td>\n",
       "    </tr>\n",
       "    <tr>\n",
       "      <th>2</th>\n",
       "      <td>Data Analyst</td>\n",
       "      <td>1651</td>\n",
       "      <td>2019</td>\n",
       "      <td>1079</td>\n",
       "      <td>2018</td>\n",
       "    </tr>\n",
       "    <tr>\n",
       "      <th>3</th>\n",
       "      <td>Machine Learning Engineer</td>\n",
       "      <td>188</td>\n",
       "      <td>2019</td>\n",
       "      <td>464</td>\n",
       "      <td>2018</td>\n",
       "    </tr>\n",
       "  </tbody>\n",
       "</table>\n",
       "</div>"
      ],
      "text/plain": [
       "                       label  position_x  year_x  position_y  year_y\n",
       "0             Data Scientist         833    2019        1444    2018\n",
       "1              Data Engineer         617    2019         218    2018\n",
       "2               Data Analyst        1651    2019        1079    2018\n",
       "3  Machine Learning Engineer         188    2019         464    2018"
      ]
     },
     "execution_count": 9,
     "metadata": {},
     "output_type": "execute_result"
    }
   ],
   "source": [
    "t"
   ]
  },
  {
   "cell_type": "code",
   "execution_count": 28,
   "metadata": {},
   "outputs": [
    {
     "data": {
      "image/png": "[encoded data removed]"
     },
     "metadata": {},
     "output_type": "display_data"
    }
   ],
   "source": [
    "%%R\n",
    "\n",
    "ggplot() + geom_segment(aes(x = year_y, xend= year_x, y=position_y, yend=position_x, group = label), colour = '#244AFC',data = t) +\n",
    "geom_segment(aes(x = 2018, xend = 2019, y=1444, yend=833),colour = 'darkorange', data = t) +\n",
    "geom_point(aes(x = year_y, y = position_y), data = t, colour = 'white', alpha = 1,  size = 3) +\n",
    "geom_point(aes(x = year_x, y = position_x), data = t, colour = 'white', alpha = 1,  size = 3) +\n",
    "geom_point(aes(x = year_y, y = position_y), data = t, colour = 'grey70', alpha = .4,  size = 3) +\n",
    "geom_point(aes(x = 2019, y = position_x), data = t, colour = 'grey70', alpha = .4, size = 3) +\n",
    "annotate('text', x = 2019, y = 780, label = 'Data Scientist', colour = 'darkorange') +\n",
    "annotate('text', x = 2019, y = 1700, label = 'Data Analyst') +\n",
    "annotate('text', x = 2019, y = 670, label = 'Data Engineer') +\n",
    "annotate('text', x = 2019, y = 130, label = 'ML Engineer') +\n",
    "xlab('') +\n",
    "ylab('Number of Job') +\n",
    "scale_x_discrete(limits = c(2018, 2019), breaks = seq(2018, 2019, by = .5)) +\n",
    "scale_y_continuous(limits = c(0, 1700), breaks = seq(200, 1600, by = 200), label = comma) +\n",
    "theme(panel.grid.minor = element_blank(), panel.grid.major = element_blank(), panel.background = element_blank(),\n",
    "     axis.ticks = element_blank(), axis.text.x = element_text(colour = 'black', size = 15), legend.position = 'none', \n",
    "      axis.text.y = element_text(colour = 'black', size = 15), axis.title.y = element_text(size = 15, margin = margin(t = 0, r = 20, b = 0, l = 0)))\n",
    "#ggsave('slope.png', width = 7, height = 5)"
   ]
  },
  {
   "cell_type": "code",
   "execution_count": null,
   "metadata": {
    "collapsed": true
   },
   "outputs": [],
   "source": []
  }
 ],
 "metadata": {
  "kernelspec": {
   "display_name": "Python 3",
   "language": "python",
   "name": "python3"
  },
  "language_info": {
   "codemirror_mode": {
    "name": "ipython",
    "version": 3
   },
   "file_extension": ".py",
   "mimetype": "text/x-python",
   "name": "python",
   "nbconvert_exporter": "python",
   "pygments_lexer": "ipython3",
   "version": "3.6.8"
  }
 },
 "nbformat": 4,
 "nbformat_minor": 2
}
