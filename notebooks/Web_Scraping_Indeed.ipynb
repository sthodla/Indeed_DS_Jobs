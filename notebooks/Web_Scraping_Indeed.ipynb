{
 "cells": [
  {
   "cell_type": "code",
   "execution_count": 1,
   "metadata": {
    "collapsed": true
   },
   "outputs": [],
   "source": [
    "import time\n",
    "from selenium import webdriver\n",
    "from bs4 import BeautifulSoup\n",
    "import requests\n",
    "from tqdm import tqdm\n",
    "import re\n",
    "import pandas as pd\n",
    "import numpy as np"
   ]
  },
  {
   "cell_type": "code",
   "execution_count": 2,
   "metadata": {
    "collapsed": true
   },
   "outputs": [],
   "source": [
    "def get_links(l, start, end):\n",
    "    \"\"\"give the head of the link the start number and the end number and return a list of links to indeed.\"\"\"\n",
    "    links = [l + str(i) for i in range(start, end+1, 10)]\n",
    "    return links"
   ]
  },
  {
   "cell_type": "code",
   "execution_count": 3,
   "metadata": {
    "collapsed": true
   },
   "outputs": [],
   "source": [
    "def get_html(link):\n",
    "    \"\"\"present the link and return a beautiful soup object that contains the html\"\"\"\n",
    "    url = requests.get(link)\n",
    "    s = BeautifulSoup(url.content, 'html.parser')\n",
    "    return s"
   ]
  },
  {
   "cell_type": "code",
   "execution_count": 4,
   "metadata": {
    "collapsed": true
   },
   "outputs": [],
   "source": [
    "def get_jobnames(s):\n",
    "    \"\"\"return a list a job positions given the soup object\"\"\"\n",
    "    j = []\n",
    "    for div in s.find_all(name='div', attrs={'class':'row'}):\n",
    "        for a in div.find_all(name='a', attrs={'data-tn-element':'jobTitle'}):\n",
    "            j.append(a['title'])\n",
    "    return j"
   ]
  },
  {
   "cell_type": "code",
   "execution_count": 5,
   "metadata": {
    "collapsed": true
   },
   "outputs": [],
   "source": [
    "def get_comp(s):\n",
    "    \"\"\"return a list of company names given the soup object\"\"\"\n",
    "    c = []\n",
    "    for link in s.find_all('span', attrs = {'class': 'company'}):\n",
    "        c.append(link.getText().lstrip())\n",
    "    return c"
   ]
  },
  {
   "cell_type": "code",
   "execution_count": 6,
   "metadata": {
    "collapsed": true
   },
   "outputs": [],
   "source": [
    "def get_loc(s):\n",
    "    \"\"\"return a list of locations given the soup object\"\"\"\n",
    "    l = []\n",
    "    for link in s.find_all('div'):\n",
    "        for key, value, in link.attrs.items():\n",
    "            if key == 'data-rc-loc':\n",
    "                l.append(value)\n",
    "    return l"
   ]
  },
  {
   "cell_type": "code",
   "execution_count": 7,
   "metadata": {
    "collapsed": true
   },
   "outputs": [],
   "source": [
    "def make_df(links):\n",
    "    \"\"\"create a dataframe of 3 columns: job position, company name, location of the company given a list of \n",
    "        links\"\"\"\n",
    "    comps = []\n",
    "    pos = []\n",
    "    locs = []\n",
    "    df = pd.DataFrame()\n",
    "    \n",
    "    for idx, link in tqdm(enumerate(links)):\n",
    "        soup = get_html(link)\n",
    "        comps.append(get_comp(soup))\n",
    "        locs.append(get_loc(soup))\n",
    "        pos.append(get_jobnames(soup))\n",
    "        df = pd.concat([df, pd.DataFrame([pos[idx], comps[idx], locs[idx]]).T])\n",
    "    \n",
    "    df.columns = ['position', 'company', 'location']\n",
    "    return df"
   ]
  },
  {
   "cell_type": "markdown",
   "metadata": {},
   "source": [
    "### Note that the link in get links have an area specified, when you start going through each state change that part of the link"
   ]
  },
  {
   "cell_type": "code",
   "execution_count": 134,
   "metadata": {},
   "outputs": [
    {
     "name": "stderr",
     "output_type": "stream",
     "text": [
      "100it [01:22,  1.20it/s]\n"
     ]
    },
    {
     "data": {
      "text/html": [
       "<div>\n",
       "<style scoped>\n",
       "    .dataframe tbody tr th:only-of-type {\n",
       "        vertical-align: middle;\n",
       "    }\n",
       "\n",
       "    .dataframe tbody tr th {\n",
       "        vertical-align: top;\n",
       "    }\n",
       "\n",
       "    .dataframe thead th {\n",
       "        text-align: right;\n",
       "    }\n",
       "</style>\n",
       "<table border=\"1\" class=\"dataframe\">\n",
       "  <thead>\n",
       "    <tr style=\"text-align: right;\">\n",
       "      <th></th>\n",
       "      <th>position</th>\n",
       "      <th>company</th>\n",
       "      <th>location</th>\n",
       "      <th>flag</th>\n",
       "    </tr>\n",
       "  </thead>\n",
       "  <tbody>\n",
       "    <tr>\n",
       "      <th>0</th>\n",
       "      <td>Head of Data Visualization Strategy and Engine...</td>\n",
       "      <td>Graphicacy</td>\n",
       "      <td>Washington, DC</td>\n",
       "      <td>1</td>\n",
       "    </tr>\n",
       "    <tr>\n",
       "      <th>1</th>\n",
       "      <td>Princial Data Analysis Engineer</td>\n",
       "      <td>Wind Talker Innovations, Inc.</td>\n",
       "      <td>Washington, DC</td>\n",
       "      <td>1</td>\n",
       "    </tr>\n",
       "    <tr>\n",
       "      <th>2</th>\n",
       "      <td>Sales Application Engineer (HVAC)</td>\n",
       "      <td>AboveAir Technologies, LLC</td>\n",
       "      <td>Frederick, MD</td>\n",
       "      <td>1</td>\n",
       "    </tr>\n",
       "    <tr>\n",
       "      <th>3</th>\n",
       "      <td>Microfluidics Engineer</td>\n",
       "      <td>LumaCyte, LLC</td>\n",
       "      <td>Charlottesville, VA</td>\n",
       "      <td>1</td>\n",
       "    </tr>\n",
       "    <tr>\n",
       "      <th>4</th>\n",
       "      <td>AI Data Scientist/NLP Engineer</td>\n",
       "      <td>Guidehouse</td>\n",
       "      <td>Washington, DC</td>\n",
       "      <td>1</td>\n",
       "    </tr>\n",
       "  </tbody>\n",
       "</table>\n",
       "</div>"
      ],
      "text/plain": [
       "                                            position  \\\n",
       "0  Head of Data Visualization Strategy and Engine...   \n",
       "1                    Princial Data Analysis Engineer   \n",
       "2                  Sales Application Engineer (HVAC)   \n",
       "3                             Microfluidics Engineer   \n",
       "4                     AI Data Scientist/NLP Engineer   \n",
       "\n",
       "                         company             location  flag  \n",
       "0                     Graphicacy       Washington, DC     1  \n",
       "1  Wind Talker Innovations, Inc.       Washington, DC     1  \n",
       "2     AboveAir Technologies, LLC        Frederick, MD     1  \n",
       "3                  LumaCyte, LLC  Charlottesville, VA     1  \n",
       "4                     Guidehouse       Washington, DC     1  "
      ]
     },
     "execution_count": 134,
     "metadata": {},
     "output_type": "execute_result"
    }
   ],
   "source": [
    "# I checked that 1000 is the 100th page of indeed and its also the last page so these numbers should be fine\n",
    "#all you need to do is change the parameter q from data scientist to data engineer etc.\n",
    "df = make_df(get_links('https://www.indeed.com/jobs?q=data+engineer&l=Washington%2C+DC&radius=100&start=', 10, 1000))\n",
    "df['flag'] = 1\n",
    "df.head()"
   ]
  },
  {
   "cell_type": "code",
   "execution_count": 135,
   "metadata": {
    "collapsed": true,
    "scrolled": true
   },
   "outputs": [],
   "source": [
    "t = df[['position','company','location','flag']].groupby(['position', 'company','location']).sum().sort_values(by = 'flag',ascending = False).reset_index()"
   ]
  },
  {
   "cell_type": "code",
   "execution_count": 136,
   "metadata": {},
   "outputs": [
    {
     "data": {
      "text/plain": [
       "(839, 4)"
      ]
     },
     "execution_count": 136,
     "metadata": {},
     "output_type": "execute_result"
    }
   ],
   "source": [
    "t.shape"
   ]
  },
  {
   "cell_type": "markdown",
   "metadata": {},
   "source": [
    "### First time writing the dataframe to csv use this following cell"
   ]
  },
  {
   "cell_type": "code",
   "execution_count": null,
   "metadata": {
    "collapsed": true
   },
   "outputs": [],
   "source": [
    "#Note you need to change the path to where you want to create the csv. ALSO!!!! you should probably create you own csv\n",
    "#file to avoid merge conflict on github\n",
    "#t.to_csv('/Users/dillonquan/Desktop/DataVizProject/indeed_2019.csv',index = False)"
   ]
  },
  {
   "cell_type": "markdown",
   "metadata": {},
   "source": [
    "### Use this cell when you have already created your csv file"
   ]
  },
  {
   "cell_type": "code",
   "execution_count": 137,
   "metadata": {
    "collapsed": true
   },
   "outputs": [],
   "source": [
    "with open('/Users/dillonquan/Desktop/DataVizProject/indeed_2019.csv', 'a') as f:\n",
    "    t.to_csv(f, header = False, index = False, mode = 'a',line_terminator = '\\n')"
   ]
  }
 ],
 "metadata": {
  "kernelspec": {
   "display_name": "Python 3",
   "language": "python",
   "name": "python3"
  },
  "language_info": {
   "codemirror_mode": {
    "name": "ipython",
    "version": 3
   },
   "file_extension": ".py",
   "mimetype": "text/x-python",
   "name": "python",
   "nbconvert_exporter": "python",
   "pygments_lexer": "ipython3",
   "version": "3.6.8"
  }
 },
 "nbformat": 4,
 "nbformat_minor": 2
}
