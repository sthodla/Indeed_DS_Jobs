{
 "cells": [
  {
   "cell_type": "markdown",
   "metadata": {},
   "source": [
    "## This notebook was needed to clean the data and export it to csvbecause the kernel keeps dying with a huge dataset and using while R as an extension."
   ]
  },
  {
   "cell_type": "code",
   "execution_count": 2,
   "metadata": {
    "collapsed": true
   },
   "outputs": [],
   "source": [
    "import pandas as pd\n",
    "import re"
   ]
  },
  {
   "cell_type": "code",
   "execution_count": 3,
   "metadata": {},
   "outputs": [],
   "source": [
    "#read in the csv files into df\n",
    "df18 = pd.read_csv('/Users/dillonquan/Desktop/ds_jobs/alldata.csv')\n",
    "df19 = pd.read_csv('indeed2019All.csv', encoding = 'latin-1')"
   ]
  },
  {
   "cell_type": "code",
   "execution_count": 4,
   "metadata": {
    "collapsed": true
   },
   "outputs": [],
   "source": [
    "#run this to make sure there are no duplicates within the data when sampling\n",
    "df = df19.groupby(['position', 'company','location']).sum().reset_index().sort_values(by = 'flag', ascending = False)\n",
    "df19 = ''\n",
    "#create a state column\n",
    "df['state'] = df['location'].str[-2:]"
   ]
  },
  {
   "cell_type": "code",
   "execution_count": 5,
   "metadata": {
    "collapsed": true
   },
   "outputs": [],
   "source": [
    "def categorize(s):\n",
    "    patterns = ['.*data sci.*','.*data.*eng.*', '.*analy.*', '.*machine.*']\n",
    "    for idx, pattern in enumerate(patterns):\n",
    "        reg = re.compile(pattern)\n",
    "        if reg.search(s):\n",
    "            return idx\n",
    "    return -1"
   ]
  },
  {
   "cell_type": "markdown",
   "metadata": {},
   "source": [
    "### 2019 Indeed Data. Randomly sampled 7000 due to the amount of data we scraped"
   ]
  },
  {
   "cell_type": "code",
   "execution_count": 5,
   "metadata": {
    "collapsed": true
   },
   "outputs": [],
   "source": [
    "#random sample 7000 job postings and setting the big dataframe to be nothing\n",
    "df_ran = df.sample(n = 7000, random_state = 1)"
   ]
  },
  {
   "cell_type": "code",
   "execution_count": 6,
   "metadata": {},
   "outputs": [
    {
     "data": {
      "text/html": [
       "<div>\n",
       "<style scoped>\n",
       "    .dataframe tbody tr th:only-of-type {\n",
       "        vertical-align: middle;\n",
       "    }\n",
       "\n",
       "    .dataframe tbody tr th {\n",
       "        vertical-align: top;\n",
       "    }\n",
       "\n",
       "    .dataframe thead th {\n",
       "        text-align: right;\n",
       "    }\n",
       "</style>\n",
       "<table border=\"1\" class=\"dataframe\">\n",
       "  <thead>\n",
       "    <tr style=\"text-align: right;\">\n",
       "      <th></th>\n",
       "      <th>position</th>\n",
       "      <th>company</th>\n",
       "      <th>location</th>\n",
       "      <th>flag</th>\n",
       "      <th>state</th>\n",
       "    </tr>\n",
       "  </thead>\n",
       "  <tbody>\n",
       "    <tr>\n",
       "      <th>0</th>\n",
       "      <td>quantitative researcher</td>\n",
       "      <td>MKT MEDIASTATS</td>\n",
       "      <td>Cambridge, MA</td>\n",
       "      <td>5</td>\n",
       "      <td>MA</td>\n",
       "    </tr>\n",
       "    <tr>\n",
       "      <th>1</th>\n",
       "      <td>distinguished data scientist</td>\n",
       "      <td>Verizon</td>\n",
       "      <td>Irving, TX</td>\n",
       "      <td>5</td>\n",
       "      <td>TX</td>\n",
       "    </tr>\n",
       "    <tr>\n",
       "      <th>2</th>\n",
       "      <td>senior data analytics analyst</td>\n",
       "      <td>Allstate</td>\n",
       "      <td>Chicago, IL</td>\n",
       "      <td>1</td>\n",
       "      <td>IL</td>\n",
       "    </tr>\n",
       "    <tr>\n",
       "      <th>3</th>\n",
       "      <td>senior organizational change consultant</td>\n",
       "      <td>itelligence</td>\n",
       "      <td>Chicago, IL</td>\n",
       "      <td>1</td>\n",
       "      <td>IL</td>\n",
       "    </tr>\n",
       "    <tr>\n",
       "      <th>4</th>\n",
       "      <td>adobe analytics analyst</td>\n",
       "      <td>Turbine Labs</td>\n",
       "      <td>Greenwood Village, CO</td>\n",
       "      <td>1</td>\n",
       "      <td>CO</td>\n",
       "    </tr>\n",
       "  </tbody>\n",
       "</table>\n",
       "</div>"
      ],
      "text/plain": [
       "                                  position         company  \\\n",
       "0                  quantitative researcher  MKT MEDIASTATS   \n",
       "1             distinguished data scientist         Verizon   \n",
       "2            senior data analytics analyst        Allstate   \n",
       "3  senior organizational change consultant     itelligence   \n",
       "4                  adobe analytics analyst    Turbine Labs   \n",
       "\n",
       "                location  flag state  \n",
       "0          Cambridge, MA     5    MA  \n",
       "1             Irving, TX     5    TX  \n",
       "2            Chicago, IL     1    IL  \n",
       "3            Chicago, IL     1    IL  \n",
       "4  Greenwood Village, CO     1    CO  "
      ]
     },
     "execution_count": 6,
     "metadata": {},
     "output_type": "execute_result"
    }
   ],
   "source": [
    "#normalizing the text\n",
    "df_ran['position'] = df_ran['position'].apply(lambda x : x.lower())\n",
    "df_ran = df_ran.reset_index(drop = True)\n",
    "df_ran.head()"
   ]
  },
  {
   "cell_type": "code",
   "execution_count": 7,
   "metadata": {
    "collapsed": true
   },
   "outputs": [],
   "source": [
    "#calling categorize function\n",
    "df_ran['label'] = -1\n",
    "for idx, row in df_ran.iterrows():\n",
    "    cat = categorize(row.position)\n",
    "    if cat != -1:\n",
    "        df_ran.loc[idx, 'label'] = cat"
   ]
  },
  {
   "cell_type": "code",
   "execution_count": 8,
   "metadata": {
    "collapsed": true,
    "scrolled": true
   },
   "outputs": [],
   "source": [
    "d19 = df_ran.groupby('label').count().reset_index()"
   ]
  },
  {
   "cell_type": "markdown",
   "metadata": {},
   "source": [
    "### 2018 Indeed Data"
   ]
  },
  {
   "cell_type": "code",
   "execution_count": 6,
   "metadata": {
    "scrolled": true
   },
   "outputs": [
    {
     "data": {
      "text/html": [
       "<div>\n",
       "<style scoped>\n",
       "    .dataframe tbody tr th:only-of-type {\n",
       "        vertical-align: middle;\n",
       "    }\n",
       "\n",
       "    .dataframe tbody tr th {\n",
       "        vertical-align: top;\n",
       "    }\n",
       "\n",
       "    .dataframe thead th {\n",
       "        text-align: right;\n",
       "    }\n",
       "</style>\n",
       "<table border=\"1\" class=\"dataframe\">\n",
       "  <thead>\n",
       "    <tr style=\"text-align: right;\">\n",
       "      <th></th>\n",
       "      <th>position</th>\n",
       "      <th>company</th>\n",
       "      <th>description</th>\n",
       "      <th>reviews</th>\n",
       "      <th>location</th>\n",
       "    </tr>\n",
       "  </thead>\n",
       "  <tbody>\n",
       "    <tr>\n",
       "      <th>0</th>\n",
       "      <td>development director</td>\n",
       "      <td>ALS TDI</td>\n",
       "      <td>Development Director\\nALS Therapy Development ...</td>\n",
       "      <td>NaN</td>\n",
       "      <td>Atlanta, GA 30301</td>\n",
       "    </tr>\n",
       "    <tr>\n",
       "      <th>1</th>\n",
       "      <td>an ostentatiously-excitable principal research...</td>\n",
       "      <td>The Hexagon Lavish</td>\n",
       "      <td>Job Description\\n\\n\"The road that leads to acc...</td>\n",
       "      <td>NaN</td>\n",
       "      <td>Atlanta, GA</td>\n",
       "    </tr>\n",
       "    <tr>\n",
       "      <th>2</th>\n",
       "      <td>data scientist</td>\n",
       "      <td>Xpert Staffing</td>\n",
       "      <td>Growing company located in the Atlanta, GA are...</td>\n",
       "      <td>NaN</td>\n",
       "      <td>Atlanta, GA</td>\n",
       "    </tr>\n",
       "    <tr>\n",
       "      <th>3</th>\n",
       "      <td>data analyst</td>\n",
       "      <td>Operation HOPE</td>\n",
       "      <td>DEPARTMENT: Program OperationsPOSITION LOCATIO...</td>\n",
       "      <td>44.0</td>\n",
       "      <td>Atlanta, GA 30303</td>\n",
       "    </tr>\n",
       "    <tr>\n",
       "      <th>4</th>\n",
       "      <td>assistant professor -tt - signal processing &amp; ...</td>\n",
       "      <td>Emory University</td>\n",
       "      <td>DESCRIPTION\\nThe Emory University Department o...</td>\n",
       "      <td>550.0</td>\n",
       "      <td>Atlanta, GA</td>\n",
       "    </tr>\n",
       "  </tbody>\n",
       "</table>\n",
       "</div>"
      ],
      "text/plain": [
       "                                            position             company  \\\n",
       "0                               development director             ALS TDI   \n",
       "1  an ostentatiously-excitable principal research...  The Hexagon Lavish   \n",
       "2                                     data scientist      Xpert Staffing   \n",
       "3                                       data analyst      Operation HOPE   \n",
       "4  assistant professor -tt - signal processing & ...    Emory University   \n",
       "\n",
       "                                         description  reviews  \\\n",
       "0  Development Director\\nALS Therapy Development ...      NaN   \n",
       "1  Job Description\\n\\n\"The road that leads to acc...      NaN   \n",
       "2  Growing company located in the Atlanta, GA are...      NaN   \n",
       "3  DEPARTMENT: Program OperationsPOSITION LOCATIO...     44.0   \n",
       "4  DESCRIPTION\\nThe Emory University Department o...    550.0   \n",
       "\n",
       "             location  \n",
       "0  Atlanta, GA 30301   \n",
       "1         Atlanta, GA  \n",
       "2         Atlanta, GA  \n",
       "3  Atlanta, GA 30303   \n",
       "4         Atlanta, GA  "
      ]
     },
     "execution_count": 6,
     "metadata": {},
     "output_type": "execute_result"
    }
   ],
   "source": [
    "#normalizing the positions for 2018 dataset\n",
    "df18['position'] = df18['position'].apply(lambda x : str(x).lower())\n",
    "df18 = df18.reset_index(drop = True)\n",
    "df18.head()"
   ]
  },
  {
   "cell_type": "code",
   "execution_count": 7,
   "metadata": {
    "collapsed": true
   },
   "outputs": [],
   "source": [
    "#categorizing the positions\n",
    "df18['label'] = -1\n",
    "for idx, row in df18.iterrows():\n",
    "    cat = categorize(row.position)\n",
    "    if cat != -1:\n",
    "        df18.loc[idx, 'label'] = cat"
   ]
  },
  {
   "cell_type": "code",
   "execution_count": 9,
   "metadata": {},
   "outputs": [],
   "source": [
    "#creating a csv for wordcloud\n",
    "df18.to_csv('pos2018.csv')"
   ]
  },
  {
   "cell_type": "code",
   "execution_count": 18,
   "metadata": {
    "collapsed": true,
    "scrolled": true
   },
   "outputs": [],
   "source": [
    "d18 = df18.groupby('label').count().reset_index()\n",
    "\n",
    "#only taking the jobs that are in SEAM\n",
    "t1 = d19[['label', 'position']].loc[(d19.label >= 0),:]\n",
    "t2 = d18[['label', 'position']].loc[(d18.label >= 0),:]\n",
    "\n",
    "#creating the csv files to create slope graphs\n",
    "t1.to_csv('2019_count.csv')\n",
    "t2.to_csv('2018_count.csv')"
   ]
  }
 ],
 "metadata": {
  "kernelspec": {
   "display_name": "Python 3",
   "language": "python",
   "name": "python3"
  },
  "language_info": {
   "codemirror_mode": {
    "name": "ipython",
    "version": 3
   },
   "file_extension": ".py",
   "mimetype": "text/x-python",
   "name": "python",
   "nbconvert_exporter": "python",
   "pygments_lexer": "ipython3",
   "version": "3.6.8"
  }
 },
 "nbformat": 4,
 "nbformat_minor": 2
}
